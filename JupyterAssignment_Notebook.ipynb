{
  "metadata": {
    "kernelspec": {
      "name": "python",
      "display_name": "Pyolite",
      "language": "python"
    },
    "language_info": {
      "codemirror_mode": {
        "name": "python",
        "version": 3
      },
      "file_extension": ".py",
      "mimetype": "text/x-python",
      "name": "python",
      "nbconvert_exporter": "python",
      "pygments_lexer": "ipython3",
      "version": "3.8"
    }
  },
  "nbformat_minor": 4,
  "nbformat": 4,
  "cells": [
    {
      "cell_type": "markdown",
      "source": "<center>\n    <img src=\"https://s3-api.us-geo.objectstorage.softlayer.net/cf-courses-data/CognitiveClass/Logos/organization_logo/organization_logo.png\" width=\"300\" alt=\"cognitiveclass.ai logo\"  />\n</center>\n",
      "metadata": {}
    },
    {
      "cell_type": "markdown",
      "source": "#### Add your code below following the instructions given in the course\n",
      "metadata": {}
    },
    {
      "cell_type": "markdown",
      "source": "# My Jupyter Notebook on IBM Watson Studio",
      "metadata": {}
    },
    {
      "cell_type": "code",
      "source": "**Stephen Ibukunolu Ajayi**\nData Sientist",
      "metadata": {},
      "execution_count": null,
      "outputs": []
    },
    {
      "cell_type": "markdown",
      "source": "*I am interested in data science because gain a wide array of new skills that will allow you to leverage data to aid companies with their business strategies, and explore exciting new fields developing from within data science—fields like artificial intelligence, machine learning, big data, and more",
      "metadata": {}
    },
    {
      "cell_type": "markdown",
      "source": "### My code in the next line should sum 2 and 2 ",
      "metadata": {}
    },
    {
      "cell_type": "code",
      "source": "print (\"Am a Data Scientist\")",
      "metadata": {
        "trusted": true
      },
      "execution_count": 7,
      "outputs": [
        {
          "name": "stdout",
          "text": "Am a Data Scientist\n",
          "output_type": "stream"
        }
      ]
    },
    {
      "cell_type": "markdown",
      "source": "1. Teacher\n2. Book \n\n[Click the link to go to](https://www.google.com)\n\n\nAlt-H1\n======",
      "metadata": {}
    }
  ]
}